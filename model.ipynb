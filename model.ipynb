{
 "cells": [
  {
   "cell_type": "code",
   "execution_count": 2,
   "metadata": {},
   "outputs": [
    {
     "name": "stdout",
     "output_type": "stream",
     "text": [
      "           ProductId          UserId  Rating   Timestamp\n",
      "0         0060009810  A1N070NS9CJQ2I     5.0  1026864000\n",
      "1         0060009810  A3P0KRKOBQK1KN     5.0  1025913600\n",
      "2         0060009810  A192HO2ICJ75VU     5.0  1025654400\n",
      "3         0060009810  A2T278FKFL3BLT     4.0  1025395200\n",
      "4         0060009810  A2ZUXVTW8RXBXW     5.0  1025222400\n",
      "...              ...             ...     ...         ...\n",
      "20994348  B01HJF704M  A1RH0C7YHWZQER     1.0  1493424000\n",
      "20994349  B01HJF704M   A2955VBJEJZ4S     5.0  1492387200\n",
      "20994350  B01HJF704M  A1FGCIRPRNZWD5     5.0  1490918400\n",
      "20994351  B01HJF704M   AOEG7L8HI8DXJ     5.0  1487203200\n",
      "20994352  B01HJF704M  A1BXCUK9AT7KWG     5.0  1486771200\n",
      "\n",
      "[20994353 rows x 4 columns]\n"
     ]
    }
   ],
   "source": [
    "import pandas as pd\n",
    "\n",
    "data = pd.read_csv('Electronics.csv',names=['ProductId','UserId','Rating','Timestamp'])\n",
    "print(data)\n"
   ]
  },
  {
   "cell_type": "code",
   "execution_count": null,
   "metadata": {},
   "outputs": [],
   "source": []
  }
 ],
 "metadata": {
  "kernelspec": {
   "display_name": "Python 3",
   "language": "python",
   "name": "python3"
  },
  "language_info": {
   "codemirror_mode": {
    "name": "ipython",
    "version": 3
   },
   "file_extension": ".py",
   "mimetype": "text/x-python",
   "name": "python",
   "nbconvert_exporter": "python",
   "pygments_lexer": "ipython3",
   "version": "3.8.10"
  },
  "orig_nbformat": 4,
  "vscode": {
   "interpreter": {
    "hash": "ff0d91300876931207232d01add3156fa7c8214350996c757a3c6cebc4b3b5d5"
   }
  }
 },
 "nbformat": 4,
 "nbformat_minor": 2
}
